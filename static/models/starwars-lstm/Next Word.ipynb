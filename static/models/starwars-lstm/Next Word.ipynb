{
  "nbformat": 4,
  "nbformat_minor": 0,
  "metadata": {
    "colab": {
      "provenance": [],
      "gpuType": "T4"
    },
    "kernelspec": {
      "name": "python3",
      "display_name": "Python 3"
    },
    "language_info": {
      "name": "python"
    },
    "accelerator": "GPU"
  },
  "cells": [
    {
      "cell_type": "code",
      "execution_count": 2,
      "metadata": {
        "id": "4_oyKA5NbLTM"
      },
      "outputs": [],
      "source": [
        "import tensorflow as tf\n",
        "from tensorflow.keras.preprocessing.text import Tokenizer\n",
        "from tensorflow.keras.layers import Embedding, LSTM, Dense\n",
        "from tensorflow.keras.models import Sequential\n",
        "from tensorflow.keras.utils import to_categorical\n",
        "from tensorflow.keras.optimizers import Adam\n",
        "import pickle\n",
        "import numpy as np\n",
        "import os"
      ]
    },
    {
      "cell_type": "code",
      "source": [
        "from google.colab import files\n",
        "uploaded = files.upload()"
      ],
      "metadata": {
        "colab": {
          "base_uri": "https://localhost:8080/",
          "height": 73
        },
        "id": "ehqaJUcpbYPw",
        "outputId": "03644df3-1b25-42b1-f42f-e038d33e3f11"
      },
      "execution_count": 3,
      "outputs": [
        {
          "output_type": "display_data",
          "data": {
            "text/plain": [
              "<IPython.core.display.HTML object>"
            ],
            "text/html": [
              "\n",
              "     <input type=\"file\" id=\"files-fbb7635f-eba2-4e70-83a9-34fd6985827b\" name=\"files[]\" multiple disabled\n",
              "        style=\"border:none\" />\n",
              "     <output id=\"result-fbb7635f-eba2-4e70-83a9-34fd6985827b\">\n",
              "      Upload widget is only available when the cell has been executed in the\n",
              "      current browser session. Please rerun this cell to enable.\n",
              "      </output>\n",
              "      <script>// Copyright 2017 Google LLC\n",
              "//\n",
              "// Licensed under the Apache License, Version 2.0 (the \"License\");\n",
              "// you may not use this file except in compliance with the License.\n",
              "// You may obtain a copy of the License at\n",
              "//\n",
              "//      http://www.apache.org/licenses/LICENSE-2.0\n",
              "//\n",
              "// Unless required by applicable law or agreed to in writing, software\n",
              "// distributed under the License is distributed on an \"AS IS\" BASIS,\n",
              "// WITHOUT WARRANTIES OR CONDITIONS OF ANY KIND, either express or implied.\n",
              "// See the License for the specific language governing permissions and\n",
              "// limitations under the License.\n",
              "\n",
              "/**\n",
              " * @fileoverview Helpers for google.colab Python module.\n",
              " */\n",
              "(function(scope) {\n",
              "function span(text, styleAttributes = {}) {\n",
              "  const element = document.createElement('span');\n",
              "  element.textContent = text;\n",
              "  for (const key of Object.keys(styleAttributes)) {\n",
              "    element.style[key] = styleAttributes[key];\n",
              "  }\n",
              "  return element;\n",
              "}\n",
              "\n",
              "// Max number of bytes which will be uploaded at a time.\n",
              "const MAX_PAYLOAD_SIZE = 100 * 1024;\n",
              "\n",
              "function _uploadFiles(inputId, outputId) {\n",
              "  const steps = uploadFilesStep(inputId, outputId);\n",
              "  const outputElement = document.getElementById(outputId);\n",
              "  // Cache steps on the outputElement to make it available for the next call\n",
              "  // to uploadFilesContinue from Python.\n",
              "  outputElement.steps = steps;\n",
              "\n",
              "  return _uploadFilesContinue(outputId);\n",
              "}\n",
              "\n",
              "// This is roughly an async generator (not supported in the browser yet),\n",
              "// where there are multiple asynchronous steps and the Python side is going\n",
              "// to poll for completion of each step.\n",
              "// This uses a Promise to block the python side on completion of each step,\n",
              "// then passes the result of the previous step as the input to the next step.\n",
              "function _uploadFilesContinue(outputId) {\n",
              "  const outputElement = document.getElementById(outputId);\n",
              "  const steps = outputElement.steps;\n",
              "\n",
              "  const next = steps.next(outputElement.lastPromiseValue);\n",
              "  return Promise.resolve(next.value.promise).then((value) => {\n",
              "    // Cache the last promise value to make it available to the next\n",
              "    // step of the generator.\n",
              "    outputElement.lastPromiseValue = value;\n",
              "    return next.value.response;\n",
              "  });\n",
              "}\n",
              "\n",
              "/**\n",
              " * Generator function which is called between each async step of the upload\n",
              " * process.\n",
              " * @param {string} inputId Element ID of the input file picker element.\n",
              " * @param {string} outputId Element ID of the output display.\n",
              " * @return {!Iterable<!Object>} Iterable of next steps.\n",
              " */\n",
              "function* uploadFilesStep(inputId, outputId) {\n",
              "  const inputElement = document.getElementById(inputId);\n",
              "  inputElement.disabled = false;\n",
              "\n",
              "  const outputElement = document.getElementById(outputId);\n",
              "  outputElement.innerHTML = '';\n",
              "\n",
              "  const pickedPromise = new Promise((resolve) => {\n",
              "    inputElement.addEventListener('change', (e) => {\n",
              "      resolve(e.target.files);\n",
              "    });\n",
              "  });\n",
              "\n",
              "  const cancel = document.createElement('button');\n",
              "  inputElement.parentElement.appendChild(cancel);\n",
              "  cancel.textContent = 'Cancel upload';\n",
              "  const cancelPromise = new Promise((resolve) => {\n",
              "    cancel.onclick = () => {\n",
              "      resolve(null);\n",
              "    };\n",
              "  });\n",
              "\n",
              "  // Wait for the user to pick the files.\n",
              "  const files = yield {\n",
              "    promise: Promise.race([pickedPromise, cancelPromise]),\n",
              "    response: {\n",
              "      action: 'starting',\n",
              "    }\n",
              "  };\n",
              "\n",
              "  cancel.remove();\n",
              "\n",
              "  // Disable the input element since further picks are not allowed.\n",
              "  inputElement.disabled = true;\n",
              "\n",
              "  if (!files) {\n",
              "    return {\n",
              "      response: {\n",
              "        action: 'complete',\n",
              "      }\n",
              "    };\n",
              "  }\n",
              "\n",
              "  for (const file of files) {\n",
              "    const li = document.createElement('li');\n",
              "    li.append(span(file.name, {fontWeight: 'bold'}));\n",
              "    li.append(span(\n",
              "        `(${file.type || 'n/a'}) - ${file.size} bytes, ` +\n",
              "        `last modified: ${\n",
              "            file.lastModifiedDate ? file.lastModifiedDate.toLocaleDateString() :\n",
              "                                    'n/a'} - `));\n",
              "    const percent = span('0% done');\n",
              "    li.appendChild(percent);\n",
              "\n",
              "    outputElement.appendChild(li);\n",
              "\n",
              "    const fileDataPromise = new Promise((resolve) => {\n",
              "      const reader = new FileReader();\n",
              "      reader.onload = (e) => {\n",
              "        resolve(e.target.result);\n",
              "      };\n",
              "      reader.readAsArrayBuffer(file);\n",
              "    });\n",
              "    // Wait for the data to be ready.\n",
              "    let fileData = yield {\n",
              "      promise: fileDataPromise,\n",
              "      response: {\n",
              "        action: 'continue',\n",
              "      }\n",
              "    };\n",
              "\n",
              "    // Use a chunked sending to avoid message size limits. See b/62115660.\n",
              "    let position = 0;\n",
              "    do {\n",
              "      const length = Math.min(fileData.byteLength - position, MAX_PAYLOAD_SIZE);\n",
              "      const chunk = new Uint8Array(fileData, position, length);\n",
              "      position += length;\n",
              "\n",
              "      const base64 = btoa(String.fromCharCode.apply(null, chunk));\n",
              "      yield {\n",
              "        response: {\n",
              "          action: 'append',\n",
              "          file: file.name,\n",
              "          data: base64,\n",
              "        },\n",
              "      };\n",
              "\n",
              "      let percentDone = fileData.byteLength === 0 ?\n",
              "          100 :\n",
              "          Math.round((position / fileData.byteLength) * 100);\n",
              "      percent.textContent = `${percentDone}% done`;\n",
              "\n",
              "    } while (position < fileData.byteLength);\n",
              "  }\n",
              "\n",
              "  // All done.\n",
              "  yield {\n",
              "    response: {\n",
              "      action: 'complete',\n",
              "    }\n",
              "  };\n",
              "}\n",
              "\n",
              "scope.google = scope.google || {};\n",
              "scope.google.colab = scope.google.colab || {};\n",
              "scope.google.colab._files = {\n",
              "  _uploadFiles,\n",
              "  _uploadFilesContinue,\n",
              "};\n",
              "})(self);\n",
              "</script> "
            ]
          },
          "metadata": {}
        },
        {
          "output_type": "stream",
          "name": "stdout",
          "text": [
            "Saving starwars.txt to starwars.txt\n"
          ]
        }
      ]
    },
    {
      "cell_type": "code",
      "source": [
        "file = open(\"starwars.txt\", \"r\", encoding = \"utf8\")\n",
        "\n",
        "# store file in list\n",
        "lines = []\n",
        "for i in file:\n",
        "    lines.append(i)\n",
        "\n",
        "# Convert list to string\n",
        "data = \"\"\n",
        "for i in lines:\n",
        "  data = ' '. join(lines)\n",
        "\n",
        "#replace unnecessary stuff with space\n",
        "data = data.replace('\\n', '').replace('\\r', '').replace('\\ufeff', '').replace('“','').replace('”','')  #new line, carriage return, unicode character --> replace by space\n",
        "\n",
        "#remove unnecessary spaces\n",
        "data = data.split()\n",
        "data = ' '.join(data)\n",
        "data[:500]"
      ],
      "metadata": {
        "colab": {
          "base_uri": "https://localhost:8080/",
          "height": 122
        },
        "id": "WfTA20DgbqIN",
        "outputId": "b6348137-9701-478e-c8ed-f9f808afea3f"
      },
      "execution_count": 4,
      "outputs": [
        {
          "output_type": "execute_result",
          "data": {
            "text/plain": [
              "'Hast du das gehört? Sie haben den Hauptreaktor getroffen. Wir werden bestimmt vernichtet werden. Der reine Wahnsinn! Wir sind verloren. Diesmal gibt es kein Entrinnen für die Prinzessin. Was ist denn das? R2-D2, wo bist du? Endlich. Wo hast du nur gesteckt? Sie kommen direkt auf uns zu. Was jetzt? Sie werden uns in die Kessel-Gewürzminen schicken oder uns verschrotten. Moment mal. Wo willst du hin? Die Pläne vom Todesstern sind nicht im Computer. Was habt ihr mit der Funkübertragung dieser Pläne'"
            ],
            "application/vnd.google.colaboratory.intrinsic+json": {
              "type": "string"
            }
          },
          "metadata": {},
          "execution_count": 4
        }
      ]
    },
    {
      "cell_type": "code",
      "source": [
        "len(data)"
      ],
      "metadata": {
        "colab": {
          "base_uri": "https://localhost:8080/"
        },
        "id": "1ugITdk8cBnx",
        "outputId": "35ce2745-8abe-4998-94e0-b5ad60057e3f"
      },
      "execution_count": 5,
      "outputs": [
        {
          "output_type": "execute_result",
          "data": {
            "text/plain": [
              "119087"
            ]
          },
          "metadata": {},
          "execution_count": 5
        }
      ]
    },
    {
      "cell_type": "code",
      "source": [
        "import json\n",
        "\n",
        "tokenizer = Tokenizer()\n",
        "tokenizer.fit_on_texts([data])\n",
        "\n",
        "# saving the tokenizer for predict function\n",
        "pickle.dump(tokenizer, open('token.pkl', 'wb'))\n",
        "\n",
        "with open( 'token.json' , 'w' ) as file:\n",
        "    json.dump( tokenizer.word_index , file )\n",
        "\n",
        "sequence_data = tokenizer.texts_to_sequences([data])[0]\n",
        "sequence_data[:15]"
      ],
      "metadata": {
        "colab": {
          "base_uri": "https://localhost:8080/"
        },
        "id": "wF14OElEcIIO",
        "outputId": "78c01eef-db60-4df6-f38a-2344e2d3bd1b"
      },
      "execution_count": 6,
      "outputs": [
        {
          "output_type": "execute_result",
          "data": {
            "text/plain": [
              "[76, 9, 6, 126, 4, 22, 18, 737, 367, 8, 52, 296, 326, 52, 7]"
            ]
          },
          "metadata": {},
          "execution_count": 6
        }
      ]
    },
    {
      "cell_type": "code",
      "source": [
        "len(sequence_data)"
      ],
      "metadata": {
        "colab": {
          "base_uri": "https://localhost:8080/"
        },
        "id": "lV09o6gMcUff",
        "outputId": "1bfe1df0-8815-4da6-8fbf-60524113c628"
      },
      "execution_count": 7,
      "outputs": [
        {
          "output_type": "execute_result",
          "data": {
            "text/plain": [
              "19010"
            ]
          },
          "metadata": {},
          "execution_count": 7
        }
      ]
    },
    {
      "cell_type": "code",
      "source": [
        "vocab_size = len(tokenizer.word_index) + 1\n",
        "print(vocab_size)"
      ],
      "metadata": {
        "colab": {
          "base_uri": "https://localhost:8080/"
        },
        "id": "58RyrqwRcYq5",
        "outputId": "3549a600-160c-4584-ad4d-e40bf2a83c36"
      },
      "execution_count": 8,
      "outputs": [
        {
          "output_type": "stream",
          "name": "stdout",
          "text": [
            "3558\n"
          ]
        }
      ]
    },
    {
      "cell_type": "code",
      "source": [
        "sequences = []\n",
        "sl = 5\n",
        "\n",
        "for i in range(sl, len(sequence_data)):\n",
        "    words = sequence_data[i-sl:i+1]\n",
        "    sequences.append(words)\n",
        "\n",
        "print(\"The Length of sequences are: \", len(sequences))\n",
        "sequences = np.array(sequences)\n",
        "sequences[:10]"
      ],
      "metadata": {
        "colab": {
          "base_uri": "https://localhost:8080/"
        },
        "id": "F9tXKg52ccYY",
        "outputId": "b74b5917-b194-4e91-994b-9a9e59d38dca"
      },
      "execution_count": 9,
      "outputs": [
        {
          "output_type": "stream",
          "name": "stdout",
          "text": [
            "The Length of sequences are:  19005\n"
          ]
        },
        {
          "output_type": "execute_result",
          "data": {
            "text/plain": [
              "array([[ 76,   9,   6, 126,   4,  22],\n",
              "       [  9,   6, 126,   4,  22,  18],\n",
              "       [  6, 126,   4,  22,  18, 737],\n",
              "       [126,   4,  22,  18, 737, 367],\n",
              "       [  4,  22,  18, 737, 367,   8],\n",
              "       [ 22,  18, 737, 367,   8,  52],\n",
              "       [ 18, 737, 367,   8,  52, 296],\n",
              "       [737, 367,   8,  52, 296, 326],\n",
              "       [367,   8,  52, 296, 326,  52],\n",
              "       [  8,  52, 296, 326,  52,   7]])"
            ]
          },
          "metadata": {},
          "execution_count": 9
        }
      ]
    },
    {
      "cell_type": "code",
      "source": [
        "X = []\n",
        "y = []\n",
        "\n",
        "for i in sequences:\n",
        "    X.append(i[0:sl])\n",
        "    y.append(i[sl])\n",
        "\n",
        "X = np.array(X)\n",
        "y = np.array(y)\n"
      ],
      "metadata": {
        "id": "TwESqNutc-Zs"
      },
      "execution_count": 10,
      "outputs": []
    },
    {
      "cell_type": "code",
      "source": [
        "print(\"Data: \", X[:10])\n",
        "print(\"Response: \", y[:10])\n"
      ],
      "metadata": {
        "colab": {
          "base_uri": "https://localhost:8080/"
        },
        "id": "ACbG4c6MdPm3",
        "outputId": "3c318c65-1948-41cb-a246-e4055a63e981"
      },
      "execution_count": 11,
      "outputs": [
        {
          "output_type": "stream",
          "name": "stdout",
          "text": [
            "Data:  [[ 76   9   6 126   4]\n",
            " [  9   6 126   4  22]\n",
            " [  6 126   4  22  18]\n",
            " [126   4  22  18 737]\n",
            " [  4  22  18 737 367]\n",
            " [ 22  18 737 367   8]\n",
            " [ 18 737 367   8  52]\n",
            " [737 367   8  52 296]\n",
            " [367   8  52 296 326]\n",
            " [  8  52 296 326  52]]\n",
            "Response:  [ 22  18 737 367   8  52 296 326  52   7]\n"
          ]
        }
      ]
    },
    {
      "cell_type": "code",
      "source": [
        "y = to_categorical(y, num_classes=vocab_size)\n",
        "y[:5]"
      ],
      "metadata": {
        "colab": {
          "base_uri": "https://localhost:8080/"
        },
        "id": "BxYeD3b_dUwi",
        "outputId": "8bcb6abd-7488-4f7f-d85a-6379e2472a19"
      },
      "execution_count": 12,
      "outputs": [
        {
          "output_type": "execute_result",
          "data": {
            "text/plain": [
              "array([[0., 0., 0., ..., 0., 0., 0.],\n",
              "       [0., 0., 0., ..., 0., 0., 0.],\n",
              "       [0., 0., 0., ..., 0., 0., 0.],\n",
              "       [0., 0., 0., ..., 0., 0., 0.],\n",
              "       [0., 0., 0., ..., 0., 0., 0.]], dtype=float32)"
            ]
          },
          "metadata": {},
          "execution_count": 12
        }
      ]
    },
    {
      "cell_type": "code",
      "source": [
        "model = Sequential()\n",
        "model.add(Embedding(vocab_size, 10, input_length=sl))\n",
        "model.add(LSTM(1000, return_sequences=True))\n",
        "model.add(LSTM(1000))\n",
        "model.add(Dense(1000, activation=\"relu\"))\n",
        "model.add(Dense(vocab_size, activation=\"softmax\"))\n"
      ],
      "metadata": {
        "id": "PSkiEVQOdbGV"
      },
      "execution_count": 13,
      "outputs": []
    },
    {
      "cell_type": "code",
      "source": [
        "model.summary()"
      ],
      "metadata": {
        "colab": {
          "base_uri": "https://localhost:8080/"
        },
        "id": "JGG_QLOLd3gP",
        "outputId": "8614f9b5-f446-429f-ce5b-f7c731f4c7fd"
      },
      "execution_count": 14,
      "outputs": [
        {
          "output_type": "stream",
          "name": "stdout",
          "text": [
            "Model: \"sequential\"\n",
            "_________________________________________________________________\n",
            " Layer (type)                Output Shape              Param #   \n",
            "=================================================================\n",
            " embedding (Embedding)       (None, 5, 10)             35580     \n",
            "                                                                 \n",
            " lstm (LSTM)                 (None, 5, 1000)           4044000   \n",
            "                                                                 \n",
            " lstm_1 (LSTM)               (None, 1000)              8004000   \n",
            "                                                                 \n",
            " dense (Dense)               (None, 1000)              1001000   \n",
            "                                                                 \n",
            " dense_1 (Dense)             (None, 3558)              3561558   \n",
            "                                                                 \n",
            "=================================================================\n",
            "Total params: 16646138 (63.50 MB)\n",
            "Trainable params: 16646138 (63.50 MB)\n",
            "Non-trainable params: 0 (0.00 Byte)\n",
            "_________________________________________________________________\n"
          ]
        }
      ]
    },
    {
      "cell_type": "code",
      "source": [],
      "metadata": {
        "id": "RhislY1Bd-LJ"
      },
      "execution_count": 14,
      "outputs": []
    },
    {
      "cell_type": "code",
      "source": [
        "from tensorflow import keras\n",
        "from keras.utils import plot_model\n",
        "\n",
        "keras.utils.plot_model(model, to_file='plot.png', show_layer_names=True)\n"
      ],
      "metadata": {
        "colab": {
          "base_uri": "https://localhost:8080/",
          "height": 564
        },
        "id": "18mLaplfd-UU",
        "outputId": "d8698228-0eb0-4a36-c6f9-b27809fbd6b6"
      },
      "execution_count": 15,
      "outputs": [
        {
          "output_type": "execute_result",
          "data": {
            "image/png": "[encoded data removed]",
            "text/plain": [
              "<IPython.core.display.Image object>"
            ]
          },
          "metadata": {},
          "execution_count": 15
        }
      ]
    },
    {
      "cell_type": "code",
      "source": [
        "from tensorflow.keras.callbacks import ModelCheckpoint\n",
        "\n",
        "checkpoint = ModelCheckpoint(\"next_words.h5\", monitor='loss', verbose=1, save_best_only=True)\n",
        "model.compile(loss=\"categorical_crossentropy\", optimizer=Adam(learning_rate=0.001))\n",
        "model.fit(X, y, epochs=100, batch_size=64, callbacks=[checkpoint])\n"
      ],
      "metadata": {
        "colab": {
          "base_uri": "https://localhost:8080/"
        },
        "id": "Gpx6qGxbfTN_",
        "outputId": "04a03e5b-25b7-41b1-a158-ac014267c9c5"
      },
      "execution_count": 16,
      "outputs": [
        {
          "output_type": "stream",
          "name": "stdout",
          "text": [
            "Epoch 1/100\n",
            "295/297 [============================>.] - ETA: 0s - loss: 6.9700\n",
            "Epoch 1: loss improved from inf to 6.96901, saving model to next_words.h5\n"
          ]
        },
        {
          "output_type": "stream",
          "name": "stderr",
          "text": [
            "/usr/local/lib/python3.10/dist-packages/keras/src/engine/training.py:3103: UserWarning: You are saving your model as an HDF5 file via `model.save()`. This file format is considered legacy. We recommend using instead the native Keras format, e.g. `model.save('my_model.keras')`.\n",
            "  saving_api.save_model(\n"
          ]
        },
        {
          "output_type": "stream",
          "name": "stdout",
          "text": [
            "\b\b\b\b\b\b\b\b\b\b\b\b\b\b\b\b\b\b\b\b\b\b\b\b\b\b\b\b\b\b\b\b\b\b\b\b\b\b\b\b\b\b\b\b\b\b\b\b\b\b\b\b\b\b\b\b\b\b\b\b\b\b\b\b\b\r297/297 [==============================] - 16s 38ms/step - loss: 6.9690\n",
            "Epoch 2/100\n",
            "297/297 [==============================] - ETA: 0s - loss: 6.6304\n",
            "Epoch 2: loss improved from 6.96901 to 6.63042, saving model to next_words.h5\n",
            "297/297 [==============================] - 6s 20ms/step - loss: 6.6304\n",
            "Epoch 3/100\n",
            "294/297 [============================>.] - ETA: 0s - loss: 6.4377\n",
            "Epoch 3: loss improved from 6.63042 to 6.43586, saving model to next_words.h5\n",
            "297/297 [==============================] - 6s 19ms/step - loss: 6.4359\n",
            "Epoch 4/100\n",
            "295/297 [============================>.] - ETA: 0s - loss: 6.2263\n",
            "Epoch 4: loss improved from 6.43586 to 6.22498, saving model to next_words.h5\n",
            "297/297 [==============================] - 6s 19ms/step - loss: 6.2250\n",
            "Epoch 5/100\n",
            "297/297 [==============================] - ETA: 0s - loss: 6.0265\n",
            "Epoch 5: loss improved from 6.22498 to 6.02654, saving model to next_words.h5\n",
            "297/297 [==============================] - 6s 20ms/step - loss: 6.0265\n",
            "Epoch 6/100\n",
            "297/297 [==============================] - ETA: 0s - loss: 5.8543\n",
            "Epoch 6: loss improved from 6.02654 to 5.85430, saving model to next_words.h5\n",
            "297/297 [==============================] - 5s 18ms/step - loss: 5.8543\n",
            "Epoch 7/100\n",
            "296/297 [============================>.] - ETA: 0s - loss: 5.6896\n",
            "Epoch 7: loss improved from 5.85430 to 5.68898, saving model to next_words.h5\n",
            "297/297 [==============================] - 6s 19ms/step - loss: 5.6890\n",
            "Epoch 8/100\n",
            "297/297 [==============================] - ETA: 0s - loss: 5.4998\n",
            "Epoch 8: loss improved from 5.68898 to 5.49984, saving model to next_words.h5\n",
            "297/297 [==============================] - 5s 18ms/step - loss: 5.4998\n",
            "Epoch 9/100\n",
            "297/297 [==============================] - ETA: 0s - loss: 5.3003\n",
            "Epoch 9: loss improved from 5.49984 to 5.30026, saving model to next_words.h5\n",
            "297/297 [==============================] - 6s 19ms/step - loss: 5.3003\n",
            "Epoch 10/100\n",
            "294/297 [============================>.] - ETA: 0s - loss: 5.0545\n",
            "Epoch 10: loss improved from 5.30026 to 5.05634, saving model to next_words.h5\n",
            "297/297 [==============================] - 5s 18ms/step - loss: 5.0563\n",
            "Epoch 11/100\n",
            "295/297 [============================>.] - ETA: 0s - loss: 4.7845\n",
            "Epoch 11: loss improved from 5.05634 to 4.78552, saving model to next_words.h5\n",
            "297/297 [==============================] - 5s 18ms/step - loss: 4.7855\n",
            "Epoch 12/100\n",
            "295/297 [============================>.] - ETA: 0s - loss: 4.4555\n",
            "Epoch 12: loss improved from 4.78552 to 4.45633, saving model to next_words.h5\n",
            "297/297 [==============================] - 6s 19ms/step - loss: 4.4563\n",
            "Epoch 13/100\n",
            "297/297 [==============================] - ETA: 0s - loss: 4.0783\n",
            "Epoch 13: loss improved from 4.45633 to 4.07828, saving model to next_words.h5\n",
            "297/297 [==============================] - 5s 18ms/step - loss: 4.0783\n",
            "Epoch 14/100\n",
            "295/297 [============================>.] - ETA: 0s - loss: 3.6632\n",
            "Epoch 14: loss improved from 4.07828 to 3.66287, saving model to next_words.h5\n",
            "297/297 [==============================] - 6s 19ms/step - loss: 3.6629\n",
            "Epoch 15/100\n",
            "297/297 [==============================] - ETA: 0s - loss: 3.2328\n",
            "Epoch 15: loss improved from 3.66287 to 3.23282, saving model to next_words.h5\n",
            "297/297 [==============================] - 6s 19ms/step - loss: 3.2328\n",
            "Epoch 16/100\n",
            "294/297 [============================>.] - ETA: 0s - loss: 2.7965\n",
            "Epoch 16: loss improved from 3.23282 to 2.79749, saving model to next_words.h5\n",
            "297/297 [==============================] - 5s 18ms/step - loss: 2.7975\n",
            "Epoch 17/100\n",
            "297/297 [==============================] - ETA: 0s - loss: 2.3696\n",
            "Epoch 17: loss improved from 2.79749 to 2.36963, saving model to next_words.h5\n",
            "297/297 [==============================] - 6s 19ms/step - loss: 2.3696\n",
            "Epoch 18/100\n",
            "296/297 [============================>.] - ETA: 0s - loss: 1.9529\n",
            "Epoch 18: loss improved from 2.36963 to 1.95261, saving model to next_words.h5\n",
            "297/297 [==============================] - 5s 18ms/step - loss: 1.9526\n",
            "Epoch 19/100\n",
            "297/297 [==============================] - ETA: 0s - loss: 1.5467\n",
            "Epoch 19: loss improved from 1.95261 to 1.54666, saving model to next_words.h5\n",
            "297/297 [==============================] - 6s 19ms/step - loss: 1.5467\n",
            "Epoch 20/100\n",
            "297/297 [==============================] - ETA: 0s - loss: 1.1672\n",
            "Epoch 20: loss improved from 1.54666 to 1.16722, saving model to next_words.h5\n",
            "297/297 [==============================] - 6s 19ms/step - loss: 1.1672\n",
            "Epoch 21/100\n",
            "297/297 [==============================] - ETA: 0s - loss: 0.8172\n",
            "Epoch 21: loss improved from 1.16722 to 0.81722, saving model to next_words.h5\n",
            "297/297 [==============================] - 6s 19ms/step - loss: 0.8172\n",
            "Epoch 22/100\n",
            "297/297 [==============================] - ETA: 0s - loss: 0.5496\n",
            "Epoch 22: loss improved from 0.81722 to 0.54961, saving model to next_words.h5\n",
            "297/297 [==============================] - 6s 19ms/step - loss: 0.5496\n",
            "Epoch 23/100\n",
            "297/297 [==============================] - ETA: 0s - loss: 0.3685\n",
            "Epoch 23: loss improved from 0.54961 to 0.36850, saving model to next_words.h5\n",
            "297/297 [==============================] - 5s 18ms/step - loss: 0.3685\n",
            "Epoch 24/100\n",
            "295/297 [============================>.] - ETA: 0s - loss: 0.2334\n",
            "Epoch 24: loss improved from 0.36850 to 0.23373, saving model to next_words.h5\n",
            "297/297 [==============================] - 6s 19ms/step - loss: 0.2337\n",
            "Epoch 25/100\n",
            "295/297 [============================>.] - ETA: 0s - loss: 0.1626\n",
            "Epoch 25: loss improved from 0.23373 to 0.16281, saving model to next_words.h5\n",
            "297/297 [==============================] - 5s 18ms/step - loss: 0.1628\n",
            "Epoch 26/100\n",
            "295/297 [============================>.] - ETA: 0s - loss: 0.1455\n",
            "Epoch 26: loss improved from 0.16281 to 0.14590, saving model to next_words.h5\n",
            "297/297 [==============================] - 6s 19ms/step - loss: 0.1459\n",
            "Epoch 27/100\n",
            "297/297 [==============================] - ETA: 0s - loss: 0.1210\n",
            "Epoch 27: loss improved from 0.14590 to 0.12103, saving model to next_words.h5\n",
            "297/297 [==============================] - 5s 18ms/step - loss: 0.1210\n",
            "Epoch 28/100\n",
            "295/297 [============================>.] - ETA: 0s - loss: 0.1050\n",
            "Epoch 28: loss improved from 0.12103 to 0.10538, saving model to next_words.h5\n",
            "297/297 [==============================] - 6s 19ms/step - loss: 0.1054\n",
            "Epoch 29/100\n",
            "295/297 [============================>.] - ETA: 0s - loss: 0.0920\n",
            "Epoch 29: loss improved from 0.10538 to 0.09202, saving model to next_words.h5\n",
            "297/297 [==============================] - 5s 18ms/step - loss: 0.0920\n",
            "Epoch 30/100\n",
            "297/297 [==============================] - ETA: 0s - loss: 0.1066\n",
            "Epoch 30: loss did not improve from 0.09202\n",
            "297/297 [==============================] - 5s 17ms/step - loss: 0.1066\n",
            "Epoch 31/100\n",
            "295/297 [============================>.] - ETA: 0s - loss: 0.1069\n",
            "Epoch 31: loss did not improve from 0.09202\n",
            "297/297 [==============================] - 5s 18ms/step - loss: 0.1070\n",
            "Epoch 32/100\n",
            "297/297 [==============================] - ETA: 0s - loss: 0.1218\n",
            "Epoch 32: loss did not improve from 0.09202\n",
            "297/297 [==============================] - 5s 17ms/step - loss: 0.1218\n",
            "Epoch 33/100\n",
            "297/297 [==============================] - ETA: 0s - loss: 0.1425\n",
            "Epoch 33: loss did not improve from 0.09202\n",
            "297/297 [==============================] - 5s 17ms/step - loss: 0.1425\n",
            "Epoch 34/100\n",
            "297/297 [==============================] - ETA: 0s - loss: 0.1139\n",
            "Epoch 34: loss did not improve from 0.09202\n",
            "297/297 [==============================] - 5s 17ms/step - loss: 0.1139\n",
            "Epoch 35/100\n",
            "296/297 [============================>.] - ETA: 0s - loss: 0.0857\n",
            "Epoch 35: loss improved from 0.09202 to 0.08579, saving model to next_words.h5\n",
            "297/297 [==============================] - 5s 18ms/step - loss: 0.0858\n",
            "Epoch 36/100\n",
            "295/297 [============================>.] - ETA: 0s - loss: 0.0755\n",
            "Epoch 36: loss improved from 0.08579 to 0.07564, saving model to next_words.h5\n",
            "297/297 [==============================] - 6s 19ms/step - loss: 0.0756\n",
            "Epoch 37/100\n",
            "296/297 [============================>.] - ETA: 0s - loss: 0.0788\n",
            "Epoch 37: loss did not improve from 0.07564\n",
            "297/297 [==============================] - 5s 17ms/step - loss: 0.0789\n",
            "Epoch 38/100\n",
            "295/297 [============================>.] - ETA: 0s - loss: 0.0670\n",
            "Epoch 38: loss improved from 0.07564 to 0.06711, saving model to next_words.h5\n",
            "297/297 [==============================] - 6s 19ms/step - loss: 0.0671\n",
            "Epoch 39/100\n",
            "294/297 [============================>.] - ETA: 0s - loss: 0.0715\n",
            "Epoch 39: loss did not improve from 0.06711\n",
            "297/297 [==============================] - 5s 17ms/step - loss: 0.0722\n",
            "Epoch 40/100\n",
            "295/297 [============================>.] - ETA: 0s - loss: 0.0840\n",
            "Epoch 40: loss did not improve from 0.06711\n",
            "297/297 [==============================] - 5s 17ms/step - loss: 0.0843\n",
            "Epoch 41/100\n",
            "297/297 [==============================] - ETA: 0s - loss: 0.0937\n",
            "Epoch 41: loss did not improve from 0.06711\n",
            "297/297 [==============================] - 5s 18ms/step - loss: 0.0937\n",
            "Epoch 42/100\n",
            "296/297 [============================>.] - ETA: 0s - loss: 0.0778\n",
            "Epoch 42: loss did not improve from 0.06711\n",
            "297/297 [==============================] - 5s 17ms/step - loss: 0.0777\n",
            "Epoch 43/100\n",
            "295/297 [============================>.] - ETA: 0s - loss: 0.0571\n",
            "Epoch 43: loss improved from 0.06711 to 0.05704, saving model to next_words.h5\n",
            "297/297 [==============================] - 6s 19ms/step - loss: 0.0570\n",
            "Epoch 44/100\n",
            "296/297 [============================>.] - ETA: 0s - loss: 0.0605\n",
            "Epoch 44: loss did not improve from 0.05704\n",
            "297/297 [==============================] - 5s 17ms/step - loss: 0.0607\n",
            "Epoch 45/100\n",
            "297/297 [==============================] - ETA: 0s - loss: 0.0582\n",
            "Epoch 45: loss did not improve from 0.05704\n",
            "297/297 [==============================] - 5s 17ms/step - loss: 0.0582\n",
            "Epoch 46/100\n",
            "296/297 [============================>.] - ETA: 0s - loss: 0.0554\n",
            "Epoch 46: loss improved from 0.05704 to 0.05530, saving model to next_words.h5\n",
            "297/297 [==============================] - 6s 19ms/step - loss: 0.0553\n",
            "Epoch 47/100\n",
            "297/297 [==============================] - ETA: 0s - loss: 0.0635\n",
            "Epoch 47: loss did not improve from 0.05530\n",
            "297/297 [==============================] - 5s 17ms/step - loss: 0.0635\n",
            "Epoch 48/100\n",
            "296/297 [============================>.] - ETA: 0s - loss: 0.0738\n",
            "Epoch 48: loss did not improve from 0.05530\n",
            "297/297 [==============================] - 5s 18ms/step - loss: 0.0740\n",
            "Epoch 49/100\n",
            "297/297 [==============================] - ETA: 0s - loss: 0.0636\n",
            "Epoch 49: loss did not improve from 0.05530\n",
            "297/297 [==============================] - 5s 17ms/step - loss: 0.0636\n",
            "Epoch 50/100\n",
            "296/297 [============================>.] - ETA: 0s - loss: 0.0695\n",
            "Epoch 50: loss did not improve from 0.05530\n",
            "297/297 [==============================] - 5s 17ms/step - loss: 0.0694\n",
            "Epoch 51/100\n",
            "296/297 [============================>.] - ETA: 0s - loss: 0.0665\n",
            "Epoch 51: loss did not improve from 0.05530\n",
            "297/297 [==============================] - 5s 18ms/step - loss: 0.0668\n",
            "Epoch 52/100\n",
            "297/297 [==============================] - ETA: 0s - loss: 0.0524\n",
            "Epoch 52: loss improved from 0.05530 to 0.05236, saving model to next_words.h5\n",
            "297/297 [==============================] - 5s 18ms/step - loss: 0.0524\n",
            "Epoch 53/100\n",
            "295/297 [============================>.] - ETA: 0s - loss: 0.0481\n",
            "Epoch 53: loss improved from 0.05236 to 0.04820, saving model to next_words.h5\n",
            "297/297 [==============================] - 6s 19ms/step - loss: 0.0482\n",
            "Epoch 54/100\n",
            "296/297 [============================>.] - ETA: 0s - loss: 0.0609\n",
            "Epoch 54: loss did not improve from 0.04820\n",
            "297/297 [==============================] - 5s 17ms/step - loss: 0.0609\n",
            "Epoch 55/100\n",
            "297/297 [==============================] - ETA: 0s - loss: 0.0583\n",
            "Epoch 55: loss did not improve from 0.04820\n",
            "297/297 [==============================] - 5s 17ms/step - loss: 0.0583\n",
            "Epoch 56/100\n",
            "295/297 [============================>.] - ETA: 0s - loss: 0.0487\n",
            "Epoch 56: loss did not improve from 0.04820\n",
            "297/297 [==============================] - 5s 18ms/step - loss: 0.0490\n",
            "Epoch 57/100\n",
            "296/297 [============================>.] - ETA: 0s - loss: 0.0412\n",
            "Epoch 57: loss improved from 0.04820 to 0.04112, saving model to next_words.h5\n",
            "297/297 [==============================] - 5s 18ms/step - loss: 0.0411\n",
            "Epoch 58/100\n",
            "295/297 [============================>.] - ETA: 0s - loss: 0.0460\n",
            "Epoch 58: loss did not improve from 0.04112\n",
            "297/297 [==============================] - 5s 18ms/step - loss: 0.0458\n",
            "Epoch 59/100\n",
            "294/297 [============================>.] - ETA: 0s - loss: 0.0351\n",
            "Epoch 59: loss improved from 0.04112 to 0.03564, saving model to next_words.h5\n",
            "297/297 [==============================] - 5s 18ms/step - loss: 0.0356\n",
            "Epoch 60/100\n",
            "295/297 [============================>.] - ETA: 0s - loss: 0.0623\n",
            "Epoch 60: loss did not improve from 0.03564\n",
            "297/297 [==============================] - 5s 17ms/step - loss: 0.0628\n",
            "Epoch 61/100\n",
            "296/297 [============================>.] - ETA: 0s - loss: 0.0624\n",
            "Epoch 61: loss did not improve from 0.03564\n",
            "297/297 [==============================] - 5s 18ms/step - loss: 0.0631\n",
            "Epoch 62/100\n",
            "297/297 [==============================] - ETA: 0s - loss: 0.0644\n",
            "Epoch 62: loss did not improve from 0.03564\n",
            "297/297 [==============================] - 5s 17ms/step - loss: 0.0644\n",
            "Epoch 63/100\n",
            "297/297 [==============================] - ETA: 0s - loss: 0.0533\n",
            "Epoch 63: loss did not improve from 0.03564\n",
            "297/297 [==============================] - 5s 18ms/step - loss: 0.0533\n",
            "Epoch 64/100\n",
            "296/297 [============================>.] - ETA: 0s - loss: 0.0446\n",
            "Epoch 64: loss did not improve from 0.03564\n",
            "297/297 [==============================] - 5s 17ms/step - loss: 0.0449\n",
            "Epoch 65/100\n",
            "297/297 [==============================] - ETA: 0s - loss: 0.0334\n",
            "Epoch 65: loss improved from 0.03564 to 0.03339, saving model to next_words.h5\n",
            "297/297 [==============================] - 6s 19ms/step - loss: 0.0334\n",
            "Epoch 66/100\n",
            "296/297 [============================>.] - ETA: 0s - loss: 0.0318\n",
            "Epoch 66: loss improved from 0.03339 to 0.03215, saving model to next_words.h5\n",
            "297/297 [==============================] - 6s 19ms/step - loss: 0.0322\n",
            "Epoch 67/100\n",
            "295/297 [============================>.] - ETA: 0s - loss: 0.0220\n",
            "Epoch 67: loss improved from 0.03215 to 0.02248, saving model to next_words.h5\n",
            "297/297 [==============================] - 6s 19ms/step - loss: 0.0225\n",
            "Epoch 68/100\n",
            "295/297 [============================>.] - ETA: 0s - loss: 0.0255\n",
            "Epoch 68: loss did not improve from 0.02248\n",
            "297/297 [==============================] - 5s 18ms/step - loss: 0.0259\n",
            "Epoch 69/100\n",
            "296/297 [============================>.] - ETA: 0s - loss: 0.0370\n",
            "Epoch 69: loss did not improve from 0.02248\n",
            "297/297 [==============================] - 5s 17ms/step - loss: 0.0370\n",
            "Epoch 70/100\n",
            "295/297 [============================>.] - ETA: 0s - loss: 0.0886\n",
            "Epoch 70: loss did not improve from 0.02248\n",
            "297/297 [==============================] - 5s 18ms/step - loss: 0.0884\n",
            "Epoch 71/100\n",
            "297/297 [==============================] - ETA: 0s - loss: 0.0875\n",
            "Epoch 71: loss did not improve from 0.02248\n",
            "297/297 [==============================] - 5s 17ms/step - loss: 0.0875\n",
            "Epoch 72/100\n",
            "295/297 [============================>.] - ETA: 0s - loss: 0.0535\n",
            "Epoch 72: loss did not improve from 0.02248\n",
            "297/297 [==============================] - 5s 17ms/step - loss: 0.0534\n",
            "Epoch 73/100\n",
            "295/297 [============================>.] - ETA: 0s - loss: 0.0337\n",
            "Epoch 73: loss did not improve from 0.02248\n",
            "297/297 [==============================] - 5s 18ms/step - loss: 0.0337\n",
            "Epoch 74/100\n",
            "296/297 [============================>.] - ETA: 0s - loss: 0.0224\n",
            "Epoch 74: loss improved from 0.02248 to 0.02235, saving model to next_words.h5\n",
            "297/297 [==============================] - 6s 19ms/step - loss: 0.0223\n",
            "Epoch 75/100\n",
            "295/297 [============================>.] - ETA: 0s - loss: 0.0212\n",
            "Epoch 75: loss improved from 0.02235 to 0.02124, saving model to next_words.h5\n",
            "297/297 [==============================] - 6s 20ms/step - loss: 0.0212\n",
            "Epoch 76/100\n",
            "296/297 [============================>.] - ETA: 0s - loss: 0.0197\n",
            "Epoch 76: loss improved from 0.02124 to 0.01973, saving model to next_words.h5\n",
            "297/297 [==============================] - 6s 19ms/step - loss: 0.0197\n",
            "Epoch 77/100\n",
            "296/297 [============================>.] - ETA: 0s - loss: 0.0312\n",
            "Epoch 77: loss did not improve from 0.01973\n",
            "297/297 [==============================] - 5s 17ms/step - loss: 0.0313\n",
            "Epoch 78/100\n",
            "297/297 [==============================] - ETA: 0s - loss: 0.0736\n",
            "Epoch 78: loss did not improve from 0.01973\n",
            "297/297 [==============================] - 5s 17ms/step - loss: 0.0736\n",
            "Epoch 79/100\n",
            "296/297 [============================>.] - ETA: 0s - loss: 0.0815\n",
            "Epoch 79: loss did not improve from 0.01973\n",
            "297/297 [==============================] - 5s 17ms/step - loss: 0.0814\n",
            "Epoch 80/100\n",
            "295/297 [============================>.] - ETA: 0s - loss: 0.0415\n",
            "Epoch 80: loss did not improve from 0.01973\n",
            "297/297 [==============================] - 5s 18ms/step - loss: 0.0423\n",
            "Epoch 81/100\n",
            "295/297 [============================>.] - ETA: 0s - loss: 0.0263\n",
            "Epoch 81: loss did not improve from 0.01973\n",
            "297/297 [==============================] - 5s 17ms/step - loss: 0.0263\n",
            "Epoch 82/100\n",
            "296/297 [============================>.] - ETA: 0s - loss: 0.0200\n",
            "Epoch 82: loss did not improve from 0.01973\n",
            "297/297 [==============================] - 5s 17ms/step - loss: 0.0200\n",
            "Epoch 83/100\n",
            "297/297 [==============================] - ETA: 0s - loss: 0.0197\n",
            "Epoch 83: loss did not improve from 0.01973\n",
            "297/297 [==============================] - 5s 18ms/step - loss: 0.0197\n",
            "Epoch 84/100\n",
            "296/297 [============================>.] - ETA: 0s - loss: 0.0190\n",
            "Epoch 84: loss improved from 0.01973 to 0.01896, saving model to next_words.h5\n",
            "297/297 [==============================] - 6s 19ms/step - loss: 0.0190\n",
            "Epoch 85/100\n",
            "296/297 [============================>.] - ETA: 0s - loss: 0.0317\n",
            "Epoch 85: loss did not improve from 0.01896\n",
            "297/297 [==============================] - 5s 18ms/step - loss: 0.0321\n",
            "Epoch 86/100\n",
            "295/297 [============================>.] - ETA: 0s - loss: 0.0748\n",
            "Epoch 86: loss did not improve from 0.01896\n",
            "297/297 [==============================] - 5s 17ms/step - loss: 0.0746\n",
            "Epoch 87/100\n",
            "297/297 [==============================] - ETA: 0s - loss: 0.0694\n",
            "Epoch 87: loss did not improve from 0.01896\n",
            "297/297 [==============================] - 5s 17ms/step - loss: 0.0694\n",
            "Epoch 88/100\n",
            "295/297 [============================>.] - ETA: 0s - loss: 0.0418\n",
            "Epoch 88: loss did not improve from 0.01896\n",
            "297/297 [==============================] - 5s 18ms/step - loss: 0.0421\n",
            "Epoch 89/100\n",
            "297/297 [==============================] - ETA: 0s - loss: 0.0207\n",
            "Epoch 89: loss did not improve from 0.01896\n",
            "297/297 [==============================] - 5s 17ms/step - loss: 0.0207\n",
            "Epoch 90/100\n",
            "295/297 [============================>.] - ETA: 0s - loss: 0.0197\n",
            "Epoch 90: loss did not improve from 0.01896\n",
            "297/297 [==============================] - 5s 18ms/step - loss: 0.0196\n",
            "Epoch 91/100\n",
            "295/297 [============================>.] - ETA: 0s - loss: 0.0165\n",
            "Epoch 91: loss improved from 0.01896 to 0.01640, saving model to next_words.h5\n",
            "297/297 [==============================] - 6s 19ms/step - loss: 0.0164\n",
            "Epoch 92/100\n",
            "296/297 [============================>.] - ETA: 0s - loss: 0.0177\n",
            "Epoch 92: loss did not improve from 0.01640\n",
            "297/297 [==============================] - 5s 17ms/step - loss: 0.0176\n",
            "Epoch 93/100\n",
            "295/297 [============================>.] - ETA: 0s - loss: 0.0368\n",
            "Epoch 93: loss did not improve from 0.01640\n",
            "297/297 [==============================] - 5s 17ms/step - loss: 0.0377\n",
            "Epoch 94/100\n",
            "296/297 [============================>.] - ETA: 0s - loss: 0.0993\n",
            "Epoch 94: loss did not improve from 0.01640\n",
            "297/297 [==============================] - 5s 18ms/step - loss: 0.0999\n",
            "Epoch 95/100\n",
            "294/297 [============================>.] - ETA: 0s - loss: 0.0642\n",
            "Epoch 95: loss did not improve from 0.01640\n",
            "297/297 [==============================] - 5s 18ms/step - loss: 0.0637\n",
            "Epoch 96/100\n",
            "295/297 [============================>.] - ETA: 0s - loss: 0.0341\n",
            "Epoch 96: loss did not improve from 0.01640\n",
            "297/297 [==============================] - 5s 17ms/step - loss: 0.0340\n",
            "Epoch 97/100\n",
            "295/297 [============================>.] - ETA: 0s - loss: 0.0169\n",
            "Epoch 97: loss did not improve from 0.01640\n",
            "297/297 [==============================] - 5s 17ms/step - loss: 0.0168\n",
            "Epoch 98/100\n",
            "296/297 [============================>.] - ETA: 0s - loss: 0.0095\n",
            "Epoch 98: loss improved from 0.01640 to 0.00947, saving model to next_words.h5\n",
            "297/297 [==============================] - 6s 19ms/step - loss: 0.0095\n",
            "Epoch 99/100\n",
            "296/297 [============================>.] - ETA: 0s - loss: 0.0083\n",
            "Epoch 99: loss improved from 0.00947 to 0.00830, saving model to next_words.h5\n",
            "297/297 [==============================] - 6s 19ms/step - loss: 0.0083\n",
            "Epoch 100/100\n",
            "295/297 [============================>.] - ETA: 0s - loss: 0.0069\n",
            "Epoch 100: loss improved from 0.00830 to 0.00698, saving model to next_words.h5\n",
            "297/297 [==============================] - 6s 19ms/step - loss: 0.0070\n"
          ]
        },
        {
          "output_type": "execute_result",
          "data": {
            "text/plain": [
              "<keras.src.callbacks.History at 0x7ee6333bb760>"
            ]
          },
          "metadata": {},
          "execution_count": 16
        }
      ]
    },
    {
      "cell_type": "code",
      "source": [
        "from tensorflow.keras.models import load_model\n",
        "import numpy as np\n",
        "import pickle\n",
        "\n",
        "# Load the model and tokenizer\n",
        "model = load_model('next_words.h5')\n",
        "tokenizer = pickle.load(open('token.pkl', 'rb'))\n",
        "\n",
        "def Predict_Next_Words(model, tokenizer, text):\n",
        "\n",
        "  sequence = tokenizer.texts_to_sequences([text])\n",
        "  sequence = np.array(sequence)\n",
        "  preds = np.argmax(model.predict(sequence))\n",
        "  predicted_word = \"\"\n",
        "\n",
        "  for key, value in tokenizer.word_index.items():\n",
        "      if value == preds:\n",
        "          predicted_word = key\n",
        "          break\n",
        "\n",
        "  print(predicted_word)\n",
        "  return predicted_word"
      ],
      "metadata": {
        "id": "Ce43uFoVhIch"
      },
      "execution_count": 17,
      "outputs": []
    },
    {
      "cell_type": "code",
      "source": [
        "while(True):\n",
        "  text = input(\"Enter your line: \")\n",
        "\n",
        "  if text == \"0\":\n",
        "      print(\"Execution completed.....\")\n",
        "      break\n",
        "\n",
        "  else:\n",
        "      try:\n",
        "          text = text.split(\" \")\n",
        "          text = text[-3:]\n",
        "          print(text)\n",
        "\n",
        "          Predict_Next_Words(model, tokenizer, text)\n",
        "\n",
        "      except Exception as e:\n",
        "        print(\"Error occurred: \",e)\n",
        "        continue"
      ],
      "metadata": {
        "colab": {
          "base_uri": "https://localhost:8080/",
          "height": 478
        },
        "id": "BDSd2dQ8hZBU",
        "outputId": "3d403869-4d63-4e01-e989-d46c455841f6"
      },
      "execution_count": 20,
      "outputs": [
        {
          "output_type": "stream",
          "name": "stdout",
          "text": [
            "Enter your line: Möge die Macht\n",
            "['Möge', 'die', 'Macht']\n",
            "1/1 [==============================] - 0s 19ms/step\n",
            "mit\n"
          ]
        },
        {
          "output_type": "error",
          "ename": "KeyboardInterrupt",
          "evalue": "Interrupted by user",
          "traceback": [
            "\u001b[0;31m---------------------------------------------------------------------------\u001b[0m",
            "\u001b[0;31mKeyboardInterrupt\u001b[0m                         Traceback (most recent call last)",
            "\u001b[0;32m<ipython-input-20-48a05b5e3200>\u001b[0m in \u001b[0;36m<cell line: 1>\u001b[0;34m()\u001b[0m\n\u001b[1;32m      1\u001b[0m \u001b[0;32mwhile\u001b[0m\u001b[0;34m(\u001b[0m\u001b[0;32mTrue\u001b[0m\u001b[0;34m)\u001b[0m\u001b[0;34m:\u001b[0m\u001b[0;34m\u001b[0m\u001b[0;34m\u001b[0m\u001b[0m\n\u001b[0;32m----> 2\u001b[0;31m   \u001b[0mtext\u001b[0m \u001b[0;34m=\u001b[0m \u001b[0minput\u001b[0m\u001b[0;34m(\u001b[0m\u001b[0;34m\"Enter your line: \"\u001b[0m\u001b[0;34m)\u001b[0m\u001b[0;34m\u001b[0m\u001b[0;34m\u001b[0m\u001b[0m\n\u001b[0m\u001b[1;32m      3\u001b[0m \u001b[0;34m\u001b[0m\u001b[0m\n\u001b[1;32m      4\u001b[0m   \u001b[0;32mif\u001b[0m \u001b[0mtext\u001b[0m \u001b[0;34m==\u001b[0m \u001b[0;34m\"0\"\u001b[0m\u001b[0;34m:\u001b[0m\u001b[0;34m\u001b[0m\u001b[0;34m\u001b[0m\u001b[0m\n\u001b[1;32m      5\u001b[0m       \u001b[0mprint\u001b[0m\u001b[0;34m(\u001b[0m\u001b[0;34m\"Execution completed.....\"\u001b[0m\u001b[0;34m)\u001b[0m\u001b[0;34m\u001b[0m\u001b[0;34m\u001b[0m\u001b[0m\n",
            "\u001b[0;32m/usr/local/lib/python3.10/dist-packages/ipykernel/kernelbase.py\u001b[0m in \u001b[0;36mraw_input\u001b[0;34m(self, prompt)\u001b[0m\n\u001b[1;32m    849\u001b[0m                 \u001b[0;34m\"raw_input was called, but this frontend does not support input requests.\"\u001b[0m\u001b[0;34m\u001b[0m\u001b[0;34m\u001b[0m\u001b[0m\n\u001b[1;32m    850\u001b[0m             )\n\u001b[0;32m--> 851\u001b[0;31m         return self._input_request(str(prompt),\n\u001b[0m\u001b[1;32m    852\u001b[0m             \u001b[0mself\u001b[0m\u001b[0;34m.\u001b[0m\u001b[0m_parent_ident\u001b[0m\u001b[0;34m,\u001b[0m\u001b[0;34m\u001b[0m\u001b[0;34m\u001b[0m\u001b[0m\n\u001b[1;32m    853\u001b[0m             \u001b[0mself\u001b[0m\u001b[0;34m.\u001b[0m\u001b[0m_parent_header\u001b[0m\u001b[0;34m,\u001b[0m\u001b[0;34m\u001b[0m\u001b[0;34m\u001b[0m\u001b[0m\n",
            "\u001b[0;32m/usr/local/lib/python3.10/dist-packages/ipykernel/kernelbase.py\u001b[0m in \u001b[0;36m_input_request\u001b[0;34m(self, prompt, ident, parent, password)\u001b[0m\n\u001b[1;32m    893\u001b[0m             \u001b[0;32mexcept\u001b[0m \u001b[0mKeyboardInterrupt\u001b[0m\u001b[0;34m:\u001b[0m\u001b[0;34m\u001b[0m\u001b[0;34m\u001b[0m\u001b[0m\n\u001b[1;32m    894\u001b[0m                 \u001b[0;31m# re-raise KeyboardInterrupt, to truncate traceback\u001b[0m\u001b[0;34m\u001b[0m\u001b[0;34m\u001b[0m\u001b[0m\n\u001b[0;32m--> 895\u001b[0;31m                 \u001b[0;32mraise\u001b[0m \u001b[0mKeyboardInterrupt\u001b[0m\u001b[0;34m(\u001b[0m\u001b[0;34m\"Interrupted by user\"\u001b[0m\u001b[0;34m)\u001b[0m \u001b[0;32mfrom\u001b[0m \u001b[0;32mNone\u001b[0m\u001b[0;34m\u001b[0m\u001b[0;34m\u001b[0m\u001b[0m\n\u001b[0m\u001b[1;32m    896\u001b[0m             \u001b[0;32mexcept\u001b[0m \u001b[0mException\u001b[0m \u001b[0;32mas\u001b[0m \u001b[0me\u001b[0m\u001b[0;34m:\u001b[0m\u001b[0;34m\u001b[0m\u001b[0;34m\u001b[0m\u001b[0m\n\u001b[1;32m    897\u001b[0m                 \u001b[0mself\u001b[0m\u001b[0;34m.\u001b[0m\u001b[0mlog\u001b[0m\u001b[0;34m.\u001b[0m\u001b[0mwarning\u001b[0m\u001b[0;34m(\u001b[0m\u001b[0;34m\"Invalid Message:\"\u001b[0m\u001b[0;34m,\u001b[0m \u001b[0mexc_info\u001b[0m\u001b[0;34m=\u001b[0m\u001b[0;32mTrue\u001b[0m\u001b[0;34m)\u001b[0m\u001b[0;34m\u001b[0m\u001b[0;34m\u001b[0m\u001b[0m\n",
            "\u001b[0;31mKeyboardInterrupt\u001b[0m: Interrupted by user"
          ]
        }
      ]
    },
    {
      "cell_type": "code",
      "source": [],
      "metadata": {
        "id": "p3y2gBtAhh6k"
      },
      "execution_count": 18,
      "outputs": []
    }
  ]
}